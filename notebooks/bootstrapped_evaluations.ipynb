{
 "cells": [
  {
   "cell_type": "code",
   "execution_count": 1,
   "id": "742cb70e",
   "metadata": {},
   "outputs": [],
   "source": [
    "import os\n",
    "os.chdir('../')"
   ]
  },
  {
   "cell_type": "code",
   "execution_count": 33,
   "id": "f5880565",
   "metadata": {},
   "outputs": [],
   "source": [
    "import pickle\n",
    "import pandas as pd\n",
    "import numpy as np\n",
    "from easydict import EasyDict as edict\n",
    "from pprint import pprint"
   ]
  },
  {
   "cell_type": "markdown",
   "id": "61e283ca",
   "metadata": {},
   "source": [
    "# Constants"
   ]
  },
  {
   "cell_type": "code",
   "execution_count": 31,
   "id": "5f7bab8a",
   "metadata": {},
   "outputs": [],
   "source": [
    "pm = '\\u00B1'\n",
    "precision = 2"
   ]
  },
  {
   "cell_type": "markdown",
   "id": "27b22887",
   "metadata": {},
   "source": [
    "# Explore"
   ]
  },
  {
   "cell_type": "code",
   "execution_count": 3,
   "id": "12750dc9",
   "metadata": {},
   "outputs": [],
   "source": [
    "with open('metrics/ood_metrics_bootstrap.pkl', 'rb') as f:\n",
    "    metrics = pickle.load(f)"
   ]
  },
  {
   "cell_type": "code",
   "execution_count": 4,
   "id": "ad63fea3",
   "metadata": {},
   "outputs": [
    {
     "data": {
      "text/plain": [
       "dict_keys(['swin_l_official', 'mask2former_swin_b_official', 'mask2former_dec_layers_2_res5_only', 'mask2former_qo_20'])"
      ]
     },
     "execution_count": 4,
     "metadata": {},
     "output_type": "execute_result"
    }
   ],
   "source": [
    "metrics.keys()z"
   ]
  },
  {
   "cell_type": "code",
   "execution_count": 12,
   "id": "c7a14a18",
   "metadata": {},
   "outputs": [
    {
     "name": "stdout",
     "output_type": "stream",
     "text": [
      "{'fishyscapes_laf': {'mean': {'aupr': 58.28326011317736,\n",
      "                              'auroc': 95.76203351383938,\n",
      "                              'fpr95': 22.156365248197503},\n",
      "                     'std': {'aupr': 1.7899497482066842,\n",
      "                             'auroc': 0.41991373071904486,\n",
      "                             'fpr95': 2.179608409483812}},\n",
      " 'fishyscapes_static': {'mean': {'aupr': 84.0460920089805,\n",
      "                                 'auroc': 99.2176268356951,\n",
      "                                 'fpr95': 3.9598661878858534},\n",
      "                        'std': {'aupr': 1.2378125470946755,\n",
      "                                'auroc': 0.06992345332170792,\n",
      "                                'fpr95': 0.4898683313756838}},\n",
      " 'road_anomaly': {'mean': {'aupr': 77.29867185113231,\n",
      "                           'auroc': 95.92122438623802,\n",
      "                           'fpr95': 16.77672140417777},\n",
      "                  'std': {'aupr': 1.1062298250273537,\n",
      "                          'auroc': 0.23821010486822705,\n",
      "                          'fpr95': 0.8978452276027952}}}\n"
     ]
    }
   ],
   "source": [
    "pprint(metrics['mask2former_dec_layers_2_res5_only'])"
   ]
  },
  {
   "cell_type": "markdown",
   "id": "319db68b",
   "metadata": {},
   "source": [
    "# Create Table"
   ]
  },
  {
   "cell_type": "code",
   "execution_count": 34,
   "id": "9e19b597",
   "metadata": {},
   "outputs": [],
   "source": [
    "table = pd.DataFrame()\n",
    "for model in metrics.keys():\n",
    "    for dataset in metrics[model].keys():\n",
    "        for metric in metrics[model][dataset]['mean'].keys():\n",
    "            mean = np.round(metrics[model][dataset]['mean'][metric], precision)\n",
    "            std = np.round(metrics[model][dataset]['std'][metric], precision)\n",
    "            table.loc[model, dataset + '_' + metric] = f\"{mean} {pm} {std}\""
   ]
  },
  {
   "cell_type": "code",
   "execution_count": 37,
   "id": "5e4f783b",
   "metadata": {
    "scrolled": true
   },
   "outputs": [
    {
     "data": {
      "text/html": [
       "<div>\n",
       "<style scoped>\n",
       "    .dataframe tbody tr th:only-of-type {\n",
       "        vertical-align: middle;\n",
       "    }\n",
       "\n",
       "    .dataframe tbody tr th {\n",
       "        vertical-align: top;\n",
       "    }\n",
       "\n",
       "    .dataframe thead th {\n",
       "        text-align: right;\n",
       "    }\n",
       "</style>\n",
       "<table border=\"1\" class=\"dataframe\">\n",
       "  <thead>\n",
       "    <tr style=\"text-align: right;\">\n",
       "      <th></th>\n",
       "      <th>road_anomaly_auroc</th>\n",
       "      <th>road_anomaly_aupr</th>\n",
       "      <th>road_anomaly_fpr95</th>\n",
       "      <th>fishyscapes_laf_auroc</th>\n",
       "      <th>fishyscapes_laf_aupr</th>\n",
       "      <th>fishyscapes_laf_fpr95</th>\n",
       "      <th>fishyscapes_static_auroc</th>\n",
       "      <th>fishyscapes_static_aupr</th>\n",
       "      <th>fishyscapes_static_fpr95</th>\n",
       "    </tr>\n",
       "  </thead>\n",
       "  <tbody>\n",
       "    <tr>\n",
       "      <th>swin_l_official</th>\n",
       "      <td>93.35 ± 0.35</td>\n",
       "      <td>74.01 ± 1.6</td>\n",
       "      <td>33.33 ± 0.97</td>\n",
       "      <td>94.06 ± 0.5</td>\n",
       "      <td>50.41 ± 2.17</td>\n",
       "      <td>36.27 ± 1.54</td>\n",
       "      <td>98.8 ± 0.09</td>\n",
       "      <td>73.39 ± 2.66</td>\n",
       "      <td>5.97 ± 0.73</td>\n",
       "    </tr>\n",
       "    <tr>\n",
       "      <th>mask2former_swin_b_official</th>\n",
       "      <td>93.94 ± 0.44</td>\n",
       "      <td>70.8 ± 2.26</td>\n",
       "      <td>26.77 ± 1.51</td>\n",
       "      <td>96.34 ± 0.33</td>\n",
       "      <td>47.98 ± 3.22</td>\n",
       "      <td>21.72 ± 1.05</td>\n",
       "      <td>97.64 ± 0.35</td>\n",
       "      <td>77.13 ± 1.96</td>\n",
       "      <td>10.25 ± 1.32</td>\n",
       "    </tr>\n",
       "    <tr>\n",
       "      <th>mask2former_dec_layers_2_res5_only</th>\n",
       "      <td>95.92 ± 0.24</td>\n",
       "      <td>77.3 ± 1.11</td>\n",
       "      <td>16.78 ± 0.9</td>\n",
       "      <td>95.76 ± 0.42</td>\n",
       "      <td>58.28 ± 1.79</td>\n",
       "      <td>22.16 ± 2.18</td>\n",
       "      <td>99.22 ± 0.07</td>\n",
       "      <td>84.05 ± 1.24</td>\n",
       "      <td>3.96 ± 0.49</td>\n",
       "    </tr>\n",
       "    <tr>\n",
       "      <th>mask2former_qo_20</th>\n",
       "      <td>95.06 ± 0.27</td>\n",
       "      <td>73.26 ± 1.3</td>\n",
       "      <td>24.75 ± 1.05</td>\n",
       "      <td>94.29 ± 0.31</td>\n",
       "      <td>26.46 ± 2.14</td>\n",
       "      <td>33.09 ± 1.22</td>\n",
       "      <td>98.27 ± 0.17</td>\n",
       "      <td>79.21 ± 1.43</td>\n",
       "      <td>10.05 ± 1.09</td>\n",
       "    </tr>\n",
       "  </tbody>\n",
       "</table>\n",
       "</div>"
      ],
      "text/plain": [
       "                                   road_anomaly_auroc road_anomaly_aupr  \\\n",
       "swin_l_official                          93.35 ± 0.35       74.01 ± 1.6   \n",
       "mask2former_swin_b_official              93.94 ± 0.44       70.8 ± 2.26   \n",
       "mask2former_dec_layers_2_res5_only       95.92 ± 0.24       77.3 ± 1.11   \n",
       "mask2former_qo_20                        95.06 ± 0.27       73.26 ± 1.3   \n",
       "\n",
       "                                   road_anomaly_fpr95 fishyscapes_laf_auroc  \\\n",
       "swin_l_official                          33.33 ± 0.97           94.06 ± 0.5   \n",
       "mask2former_swin_b_official              26.77 ± 1.51          96.34 ± 0.33   \n",
       "mask2former_dec_layers_2_res5_only        16.78 ± 0.9          95.76 ± 0.42   \n",
       "mask2former_qo_20                        24.75 ± 1.05          94.29 ± 0.31   \n",
       "\n",
       "                                   fishyscapes_laf_aupr fishyscapes_laf_fpr95  \\\n",
       "swin_l_official                            50.41 ± 2.17          36.27 ± 1.54   \n",
       "mask2former_swin_b_official                47.98 ± 3.22          21.72 ± 1.05   \n",
       "mask2former_dec_layers_2_res5_only         58.28 ± 1.79          22.16 ± 2.18   \n",
       "mask2former_qo_20                          26.46 ± 2.14          33.09 ± 1.22   \n",
       "\n",
       "                                   fishyscapes_static_auroc  \\\n",
       "swin_l_official                                 98.8 ± 0.09   \n",
       "mask2former_swin_b_official                    97.64 ± 0.35   \n",
       "mask2former_dec_layers_2_res5_only             99.22 ± 0.07   \n",
       "mask2former_qo_20                              98.27 ± 0.17   \n",
       "\n",
       "                                   fishyscapes_static_aupr  \\\n",
       "swin_l_official                               73.39 ± 2.66   \n",
       "mask2former_swin_b_official                   77.13 ± 1.96   \n",
       "mask2former_dec_layers_2_res5_only            84.05 ± 1.24   \n",
       "mask2former_qo_20                             79.21 ± 1.43   \n",
       "\n",
       "                                   fishyscapes_static_fpr95  \n",
       "swin_l_official                                 5.97 ± 0.73  \n",
       "mask2former_swin_b_official                    10.25 ± 1.32  \n",
       "mask2former_dec_layers_2_res5_only              3.96 ± 0.49  \n",
       "mask2former_qo_20                              10.05 ± 1.09  "
      ]
     },
     "execution_count": 37,
     "metadata": {},
     "output_type": "execute_result"
    }
   ],
   "source": [
    "table"
   ]
  },
  {
   "cell_type": "code",
   "execution_count": 19,
   "id": "8b6d656f",
   "metadata": {},
   "outputs": [],
   "source": [
    "df = pd.DataFrame()"
   ]
  },
  {
   "cell_type": "code",
   "execution_count": 26,
   "id": "3dee6da4",
   "metadata": {},
   "outputs": [],
   "source": [
    "df.loc['a', 'b'] = 'str \\u00B1'\n",
    "df.loc['a', 'd'] = '1 +- 2'"
   ]
  },
  {
   "cell_type": "code",
   "execution_count": 27,
   "id": "89f9a3c3",
   "metadata": {},
   "outputs": [
    {
     "data": {
      "text/html": [
       "<div>\n",
       "<style scoped>\n",
       "    .dataframe tbody tr th:only-of-type {\n",
       "        vertical-align: middle;\n",
       "    }\n",
       "\n",
       "    .dataframe tbody tr th {\n",
       "        vertical-align: top;\n",
       "    }\n",
       "\n",
       "    .dataframe thead th {\n",
       "        text-align: right;\n",
       "    }\n",
       "</style>\n",
       "<table border=\"1\" class=\"dataframe\">\n",
       "  <thead>\n",
       "    <tr style=\"text-align: right;\">\n",
       "      <th></th>\n",
       "      <th>b</th>\n",
       "      <th>d</th>\n",
       "    </tr>\n",
       "  </thead>\n",
       "  <tbody>\n",
       "    <tr>\n",
       "      <th>a</th>\n",
       "      <td>str ±</td>\n",
       "      <td>1 +- 2</td>\n",
       "    </tr>\n",
       "  </tbody>\n",
       "</table>\n",
       "</div>"
      ],
      "text/plain": [
       "       b       d\n",
       "a  str ±  1 +- 2"
      ]
     },
     "execution_count": 27,
     "metadata": {},
     "output_type": "execute_result"
    }
   ],
   "source": [
    "df"
   ]
  },
  {
   "cell_type": "code",
   "execution_count": 25,
   "id": "f0d64127",
   "metadata": {},
   "outputs": [],
   "source": [
    "df.to_csv('test.csv')"
   ]
  }
 ],
 "metadata": {
  "kernelspec": {
   "display_name": "maskformer_env",
   "language": "python",
   "name": "maskformer_env"
  },
  "language_info": {
   "codemirror_mode": {
    "name": "ipython",
    "version": 3
   },
   "file_extension": ".py",
   "mimetype": "text/x-python",
   "name": "python",
   "nbconvert_exporter": "python",
   "pygments_lexer": "ipython3",
   "version": "3.8.13"
  }
 },
 "nbformat": 4,
 "nbformat_minor": 5
}
